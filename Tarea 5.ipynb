{
 "cells": [
  {
   "cell_type": "markdown",
   "metadata": {},
   "source": [
    "## Método de Integración de Riemann"
   ]
  },
  {
   "cell_type": "markdown",
   "metadata": {},
   "source": [
    "\n",
    "Una función $ f $, acotada definida en un intervalo $[a,b]$ se dice que es Riemann integrable en $[a,b]$ si existe un número $ I $ en los reales tal que, para todo número real positivo $\\varepsilon $ existe una $\\delta$  positiva tal que si $P$ es una partición de $[a,b]$ con $\\displaystyle \\|P\\|<\\delta$ y $S(P,f)$ es cualquier suma de Riemann entonces $|S(P,f)-I|<\\varepsilon$ \n",
    "\n",
    "Usualmente para funciones conocidas que sabemos integrables se toma una partición regular del intervalo y se toman los $t_{k}$ como alguno de los puntos extremos de cada intervalo (notaemos que si no supiéramos que la función es integrable entonces no podríamos tomar cualquier punto del intervalo arbitrariamente, es decir, no podríamos tomar los valores extremos), tendríamos que revisar que para cualquier valor $t_{k}$ que tomáramos en cada intervalo $[x_{k-1},x_{k}]$  la suma de Riemann menos algún número real $I$  es menor en valor absoluto que cualquier $\\varepsilon$ que hubiéramos tomado, en caso de cumplirse habríamos demostrado que la función $f$ es integrable según Riemann en $[a,b]$ y habríamos hallado su valor; en caso de no cumplirse no habríamos probado nada en absoluto, cuando llevamos al límite esta partición, se puede demostrar que obtenemos el valor de la integral:\n",
    "\n",
    "$$\\int _{a}^{b}f(x)dx=\\lim _{n\\to \\infty }{\\frac {(b-a)}{n}}\\sum _{k=1}^{n}f(a+k{\\frac {(b-a)}{n}})$$\n",
    "\n",
    "Esta última expresión es sobre todo útil para funciones que sabemos que son integrables como, por ejemplo, las continuas. Podemos demostrar que toda función que es continua en un intervalo $ [a,b] $, es integrable, en cuyo caso lo único que restaría sería encontrar el valor de la integral. Por supuesto, si ya estamos familiarizados con el Segundo Teorema Fundamental del Cálculo entonces basta hallar una función $F(x)$ (denominada primitiva de $f(x)$) cuya derivada nos dé nuestra función original $f(x)$ y entonces el valor de la integral es $\\displaystyle F(b)-F(a)$. No siempre podemos hallar una función primitiva de la que estamos integrando. En esos casos, se recurre a una expresión como la anterior o a métodos de aproximación.\n"
   ]
  },
  {
   "cell_type": "markdown",
   "metadata": {},
   "source": [
    "## Regla del Trapecio"
   ]
  },
  {
   "cell_type": "markdown",
   "metadata": {},
   "source": [
    "\n",
    "Para realizar la aproximación por esta regla es necesario usar un polinomio de primer orden, y esta es representada por:\n",
    "\n",
    "$$P_{1}(x)=f(a)+{\\frac {f(b)-f(a)}{b-a}}(x-a)$$\n",
    "Entonces al sustituir en la integral tenemos:\n",
    "\n",
    "$$\\begin{aligned}I&=\\int _{a}^{b}f(x)dx\\approx \\int _{a}^{b}P_{1}(x)\\,dx\\\\&\\approx \\int _{a}^{b}\\left[f(a)+{\\frac {f(b)-f(a)}{b-a}}(x-a)\\right]\\,dx\\end{aligned} $$ $$\\begin{aligned}I&=\\int _{a}^{b}f(x)dx\\approx \\int _{a}^{b}P_{1}(x)\\,dx\\\\&\\approx \\int _{a}^{b}\\left[f(a)+{\\frac {f(b)-f(a)}{b-a}}(x-a)\\right]\\,dx\\end{aligned}$$\n",
    "Por último al resolver esa integral nos queda:\n",
    "\n",
    "$$\\int _{a}^{b}f(x)dx\\approx (b-a){\\frac {f(a)+f(b)}{2}}$$ \n",
    "        "
   ]
  },
  {
   "cell_type": "markdown",
   "metadata": {},
   "source": [
    "## Regla de Simpson "
   ]
  },
  {
   "cell_type": "markdown",
   "metadata": {},
   "source": [
    "\n",
    "Consideramos el polinomio interpolador de orden dos $P_{2}(x)$, que aproxima a la función integrando $f(x)$ entre los nodos $x0 = a$, $x1 = b$ y $m = (a+b)/2$. La expresión de ese polinomio interpolante, expresado a través de la interpolación polinómica de Lagrange es:\n",
    "\n",
    "$$P_{2}(x)=f(a){\\frac {(x-m)(x-b)}{(a-m)(a-b)}}+f(m){\\frac {(x-a)(x-b)}{(m-a)(m-b)}}+f(b){\\frac {(x-a)(x-m)}{(b-a)(b-m)}}$$ \n",
    "Así, la integral buscada\n",
    "\n",
    "$$\\displaystyle I=\\int _{a}^{b}f(x)\\,dx$$ \n",
    "es equivalente a\n",
    "\n",
    "$$I=\\int _{a}^{b}P_{2}(x)\\,dx+término error={\\frac {b-a}{6}}\\left[f(a)+4f(m)+f(b)\\right]+E(f),$$ donde $E(f)$ es el término de error; por lo tanto, se puede aproximar como:\n",
    "\n",
    "$$\\int _{a}^{b}f(x)\\,dx\\approx {\\frac {b-a}{6}}\\left[f(a)+4f(m)+f(b)\\right]$$ "
   ]
  }
 ],
 "metadata": {
  "kernelspec": {
   "display_name": "Julia 0.6.0",
   "language": "julia",
   "name": "julia-0.6"
  },
  "language_info": {
   "file_extension": ".jl",
   "mimetype": "application/julia",
   "name": "julia",
   "version": "0.6.0"
  }
 },
 "nbformat": 4,
 "nbformat_minor": 2
}
